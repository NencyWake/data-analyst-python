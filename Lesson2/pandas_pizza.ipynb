{
 "cells": [
  {
   "cell_type": "markdown",
   "metadata": {
    "pycharm": {
     "name": "#%% md\n"
    }
   },
   "source": [
    "# Про Pandas"
   ]
  },
  {
   "cell_type": "code",
   "execution_count": 1,
   "metadata": {
    "pycharm": {
     "name": "#%%\n"
    }
   },
   "outputs": [],
   "source": [
    "import os\n",
    "import pandas as pd\n",
    "import numpy as np\n",
    "\n",
    "pizza = pd.read_csv(os.path.join('data','Datafiniti_Pizza_Restaurants_and_the_Pizza_They_Sell_May19.csv'))"
   ]
  },
  {
   "cell_type": "code",
   "execution_count": 2,
   "metadata": {
    "pycharm": {
     "name": "#%%\n"
    }
   },
   "outputs": [
    {
     "data": {
      "text/plain": "                     id             dateAdded           dateUpdated  \\\n0  AVz3Y-7h3D1zeR_xDAqm  2017-06-30T05:05:40Z  2019-05-01T15:43:09Z   \n1  AVweGPFF_7pvs4fzAAzQ  2016-04-02T04:02:49Z  2019-05-01T15:27:50Z   \n2  AVwdRGa9_7pvs4fz4E3K  2016-03-03T18:39:49Z  2019-05-01T12:52:25Z   \n3  AVwdX4psIN2L1WUfvJB1  2016-03-29T05:08:59Z  2019-05-01T12:52:20Z   \n4  AVwdaeTtkufWRAb55pSH  2016-03-31T02:34:04Z  2019-05-01T12:50:45Z   \n\n             address                                         categories  \\\n0   4203 E Kiehl Ave  Pizza,Restaurant,American restaurants,Pizza Pl...   \n1  25 E Camelback Rd                      Pizza,Pizza Place,Restaurants   \n2    3703 Paxton Ave                 Restaurant,Pizza Place,Restaurants   \n3    30495 John R Rd       Pizza,Carry-out food,Pizza Place,Restaurants   \n4   3600 Eastern Ave  Pizza,American restaurants,Pizza Place,Pizza e...   \n\n               primaryCategories             city country  \\\n0  Accommodation & Food Services         Sherwood      US   \n1  Accommodation & Food Services          Phoenix      US   \n2  Accommodation & Food Services       Cincinnati      US   \n3  Accommodation & Food Services  Madison Heights      US   \n4  Accommodation & Food Services        Baltimore      US   \n\n                                           keys   latitude  ...  \\\n0      us/ar/sherwood/4203ekiehlave/-1051391616  34.832300  ...   \n1       us/az/phoenix/25ecamelbackrd/-727422936  33.509266  ...   \n2     us/oh/cincinnati/3703paxtonave/-619797122  39.144883  ...   \n3  us/mi/madisonheights/30495johnrrd/-874863116  42.516669  ...   \n4    us/md/baltimore/3600easternave/-1270965359  39.286630  ...   \n\n   menus.currency                                     menus.dateSeen  \\\n0             USD  2018-05-01T04:25:37.197Z,2018-04-16T04:36:02.3...   \n1             USD  2018-03-03T02:38:06.381Z,2018-01-18T20:18:10.0...   \n2             USD  2018-04-10T07:58:34.585Z,2018-04-21T05:43:21.4...   \n3             USD          2016-10-20T21:50:02Z,2016-03-29T05:08:59Z   \n4             USD                               2016-03-31T02:34:04Z   \n\n                                   menus.description    menus.name  \\\n0                                                NaN  Cheese Pizza   \n1                                                NaN  Pizza Cookie   \n2  a saucelessampcomma double cheese pizza with a...  Pizza Blanca   \n3                                                NaN   Small Pizza   \n4                                                NaN     Pizza Sub   \n\n                  name postalCode priceRangeCurrency priceRangeMin  \\\n0   Shotgun Dans Pizza      72120                USD             0   \n1     Sauce Pizza Wine      85012                USD             0   \n2        Mios Pizzeria      45209                USD             0   \n3  Hungry Howies Pizza      48071                USD            25   \n4     Spartan Pizzeria      21224                USD             0   \n\n  priceRangeMax province  \n0            25       AR  \n1            25       AZ  \n2            25       OH  \n3            40       MI  \n4            25       MD  \n\n[5 rows x 24 columns]",
      "text/html": "<div>\n<style scoped>\n    .dataframe tbody tr th:only-of-type {\n        vertical-align: middle;\n    }\n\n    .dataframe tbody tr th {\n        vertical-align: top;\n    }\n\n    .dataframe thead th {\n        text-align: right;\n    }\n</style>\n<table border=\"1\" class=\"dataframe\">\n  <thead>\n    <tr style=\"text-align: right;\">\n      <th></th>\n      <th>id</th>\n      <th>dateAdded</th>\n      <th>dateUpdated</th>\n      <th>address</th>\n      <th>categories</th>\n      <th>primaryCategories</th>\n      <th>city</th>\n      <th>country</th>\n      <th>keys</th>\n      <th>latitude</th>\n      <th>...</th>\n      <th>menus.currency</th>\n      <th>menus.dateSeen</th>\n      <th>menus.description</th>\n      <th>menus.name</th>\n      <th>name</th>\n      <th>postalCode</th>\n      <th>priceRangeCurrency</th>\n      <th>priceRangeMin</th>\n      <th>priceRangeMax</th>\n      <th>province</th>\n    </tr>\n  </thead>\n  <tbody>\n    <tr>\n      <th>0</th>\n      <td>AVz3Y-7h3D1zeR_xDAqm</td>\n      <td>2017-06-30T05:05:40Z</td>\n      <td>2019-05-01T15:43:09Z</td>\n      <td>4203 E Kiehl Ave</td>\n      <td>Pizza,Restaurant,American restaurants,Pizza Pl...</td>\n      <td>Accommodation &amp; Food Services</td>\n      <td>Sherwood</td>\n      <td>US</td>\n      <td>us/ar/sherwood/4203ekiehlave/-1051391616</td>\n      <td>34.832300</td>\n      <td>...</td>\n      <td>USD</td>\n      <td>2018-05-01T04:25:37.197Z,2018-04-16T04:36:02.3...</td>\n      <td>NaN</td>\n      <td>Cheese Pizza</td>\n      <td>Shotgun Dans Pizza</td>\n      <td>72120</td>\n      <td>USD</td>\n      <td>0</td>\n      <td>25</td>\n      <td>AR</td>\n    </tr>\n    <tr>\n      <th>1</th>\n      <td>AVweGPFF_7pvs4fzAAzQ</td>\n      <td>2016-04-02T04:02:49Z</td>\n      <td>2019-05-01T15:27:50Z</td>\n      <td>25 E Camelback Rd</td>\n      <td>Pizza,Pizza Place,Restaurants</td>\n      <td>Accommodation &amp; Food Services</td>\n      <td>Phoenix</td>\n      <td>US</td>\n      <td>us/az/phoenix/25ecamelbackrd/-727422936</td>\n      <td>33.509266</td>\n      <td>...</td>\n      <td>USD</td>\n      <td>2018-03-03T02:38:06.381Z,2018-01-18T20:18:10.0...</td>\n      <td>NaN</td>\n      <td>Pizza Cookie</td>\n      <td>Sauce Pizza Wine</td>\n      <td>85012</td>\n      <td>USD</td>\n      <td>0</td>\n      <td>25</td>\n      <td>AZ</td>\n    </tr>\n    <tr>\n      <th>2</th>\n      <td>AVwdRGa9_7pvs4fz4E3K</td>\n      <td>2016-03-03T18:39:49Z</td>\n      <td>2019-05-01T12:52:25Z</td>\n      <td>3703 Paxton Ave</td>\n      <td>Restaurant,Pizza Place,Restaurants</td>\n      <td>Accommodation &amp; Food Services</td>\n      <td>Cincinnati</td>\n      <td>US</td>\n      <td>us/oh/cincinnati/3703paxtonave/-619797122</td>\n      <td>39.144883</td>\n      <td>...</td>\n      <td>USD</td>\n      <td>2018-04-10T07:58:34.585Z,2018-04-21T05:43:21.4...</td>\n      <td>a saucelessampcomma double cheese pizza with a...</td>\n      <td>Pizza Blanca</td>\n      <td>Mios Pizzeria</td>\n      <td>45209</td>\n      <td>USD</td>\n      <td>0</td>\n      <td>25</td>\n      <td>OH</td>\n    </tr>\n    <tr>\n      <th>3</th>\n      <td>AVwdX4psIN2L1WUfvJB1</td>\n      <td>2016-03-29T05:08:59Z</td>\n      <td>2019-05-01T12:52:20Z</td>\n      <td>30495 John R Rd</td>\n      <td>Pizza,Carry-out food,Pizza Place,Restaurants</td>\n      <td>Accommodation &amp; Food Services</td>\n      <td>Madison Heights</td>\n      <td>US</td>\n      <td>us/mi/madisonheights/30495johnrrd/-874863116</td>\n      <td>42.516669</td>\n      <td>...</td>\n      <td>USD</td>\n      <td>2016-10-20T21:50:02Z,2016-03-29T05:08:59Z</td>\n      <td>NaN</td>\n      <td>Small Pizza</td>\n      <td>Hungry Howies Pizza</td>\n      <td>48071</td>\n      <td>USD</td>\n      <td>25</td>\n      <td>40</td>\n      <td>MI</td>\n    </tr>\n    <tr>\n      <th>4</th>\n      <td>AVwdaeTtkufWRAb55pSH</td>\n      <td>2016-03-31T02:34:04Z</td>\n      <td>2019-05-01T12:50:45Z</td>\n      <td>3600 Eastern Ave</td>\n      <td>Pizza,American restaurants,Pizza Place,Pizza e...</td>\n      <td>Accommodation &amp; Food Services</td>\n      <td>Baltimore</td>\n      <td>US</td>\n      <td>us/md/baltimore/3600easternave/-1270965359</td>\n      <td>39.286630</td>\n      <td>...</td>\n      <td>USD</td>\n      <td>2016-03-31T02:34:04Z</td>\n      <td>NaN</td>\n      <td>Pizza Sub</td>\n      <td>Spartan Pizzeria</td>\n      <td>21224</td>\n      <td>USD</td>\n      <td>0</td>\n      <td>25</td>\n      <td>MD</td>\n    </tr>\n  </tbody>\n</table>\n<p>5 rows × 24 columns</p>\n</div>"
     },
     "execution_count": 2,
     "metadata": {},
     "output_type": "execute_result"
    }
   ],
   "source": [
    "pizza.head()"
   ]
  },
  {
   "cell_type": "code",
   "execution_count": 3,
   "metadata": {
    "pycharm": {
     "name": "#%%\n"
    }
   },
   "outputs": [],
   "source": [
    "# Первые строчки таблицы"
   ]
  },
  {
   "cell_type": "code",
   "execution_count": 4,
   "metadata": {
    "pycharm": {
     "name": "#%%\n"
    }
   },
   "outputs": [
    {
     "name": "stdout",
     "output_type": "stream",
     "text": [
      "<class 'pandas.core.frame.DataFrame'>\n",
      "RangeIndex: 10000 entries, 0 to 9999\n",
      "Data columns (total 24 columns):\n",
      " #   Column              Non-Null Count  Dtype  \n",
      "---  ------              --------------  -----  \n",
      " 0   id                  10000 non-null  object \n",
      " 1   dateAdded           10000 non-null  object \n",
      " 2   dateUpdated         10000 non-null  object \n",
      " 3   address             10000 non-null  object \n",
      " 4   categories          10000 non-null  object \n",
      " 5   primaryCategories   10000 non-null  object \n",
      " 6   city                10000 non-null  object \n",
      " 7   country             10000 non-null  object \n",
      " 8   keys                10000 non-null  object \n",
      " 9   latitude            10000 non-null  float64\n",
      " 10  longitude           10000 non-null  float64\n",
      " 11  menuPageURL         1679 non-null   object \n",
      " 12  menus.amountMax     10000 non-null  float64\n",
      " 13  menus.amountMin     10000 non-null  float64\n",
      " 14  menus.currency      10000 non-null  object \n",
      " 15  menus.dateSeen      10000 non-null  object \n",
      " 16  menus.description   3718 non-null   object \n",
      " 17  menus.name          10000 non-null  object \n",
      " 18  name                10000 non-null  object \n",
      " 19  postalCode          9996 non-null   object \n",
      " 20  priceRangeCurrency  10000 non-null  object \n",
      " 21  priceRangeMin       10000 non-null  int64  \n",
      " 22  priceRangeMax       10000 non-null  int64  \n",
      " 23  province            10000 non-null  object \n",
      "dtypes: float64(4), int64(2), object(18)\n",
      "memory usage: 1.8+ MB\n"
     ]
    }
   ],
   "source": [
    "# Информация о таблице\n"
   ]
  },
  {
   "cell_type": "code",
   "execution_count": 5,
   "metadata": {
    "pycharm": {
     "name": "#%%\n"
    }
   },
   "outputs": [],
   "source": [
    "# Если нужно удалить колонки\n",
    "pizza = pizza.drop(['address','dateUpdated'], axis=1)"
   ]
  },
  {
   "cell_type": "code",
   "execution_count": 6,
   "metadata": {
    "pycharm": {
     "name": "#%%\n"
    }
   },
   "outputs": [
    {
     "data": {
      "text/plain": "                     id             dateAdded  \\\n0  AVz3Y-7h3D1zeR_xDAqm  2017-06-30T05:05:40Z   \n1  AVweGPFF_7pvs4fzAAzQ  2016-04-02T04:02:49Z   \n2  AVwdRGa9_7pvs4fz4E3K  2016-03-03T18:39:49Z   \n3  AVwdX4psIN2L1WUfvJB1  2016-03-29T05:08:59Z   \n4  AVwdaeTtkufWRAb55pSH  2016-03-31T02:34:04Z   \n\n                                          categories  \\\n0  Pizza,Restaurant,American restaurants,Pizza Pl...   \n1                      Pizza,Pizza Place,Restaurants   \n2                 Restaurant,Pizza Place,Restaurants   \n3       Pizza,Carry-out food,Pizza Place,Restaurants   \n4  Pizza,American restaurants,Pizza Place,Pizza e...   \n\n               primaryCategories             city country  \\\n0  Accommodation & Food Services         Sherwood      US   \n1  Accommodation & Food Services          Phoenix      US   \n2  Accommodation & Food Services       Cincinnati      US   \n3  Accommodation & Food Services  Madison Heights      US   \n4  Accommodation & Food Services        Baltimore      US   \n\n                                           keys   latitude   longitude  \\\n0      us/ar/sherwood/4203ekiehlave/-1051391616  34.832300  -92.183800   \n1       us/az/phoenix/25ecamelbackrd/-727422936  33.509266 -112.073044   \n2     us/oh/cincinnati/3703paxtonave/-619797122  39.144883  -84.432685   \n3  us/mi/madisonheights/30495johnrrd/-874863116  42.516669  -83.106630   \n4    us/md/baltimore/3600easternave/-1270965359  39.286630  -76.566984   \n\n                                         menuPageURL  ...  menus.currency  \\\n0  http://www.citysearch.com/profile/menu/1550074...  ...             USD   \n1                                                NaN  ...             USD   \n2  http://www.citysearch.com/profile/menu/8160503...  ...             USD   \n3                                                NaN  ...             USD   \n4                                                NaN  ...             USD   \n\n                                      menus.dateSeen  \\\n0  2018-05-01T04:25:37.197Z,2018-04-16T04:36:02.3...   \n1  2018-03-03T02:38:06.381Z,2018-01-18T20:18:10.0...   \n2  2018-04-10T07:58:34.585Z,2018-04-21T05:43:21.4...   \n3          2016-10-20T21:50:02Z,2016-03-29T05:08:59Z   \n4                               2016-03-31T02:34:04Z   \n\n                                   menus.description    menus.name  \\\n0                                                NaN  Cheese Pizza   \n1                                                NaN  Pizza Cookie   \n2  a saucelessampcomma double cheese pizza with a...  Pizza Blanca   \n3                                                NaN   Small Pizza   \n4                                                NaN     Pizza Sub   \n\n                  name postalCode priceRangeCurrency priceRangeMin  \\\n0   Shotgun Dans Pizza      72120                USD             0   \n1     Sauce Pizza Wine      85012                USD             0   \n2        Mios Pizzeria      45209                USD             0   \n3  Hungry Howies Pizza      48071                USD            25   \n4     Spartan Pizzeria      21224                USD             0   \n\n  priceRangeMax  province  \n0            25        AR  \n1            25        AZ  \n2            25        OH  \n3            40        MI  \n4            25        MD  \n\n[5 rows x 22 columns]",
      "text/html": "<div>\n<style scoped>\n    .dataframe tbody tr th:only-of-type {\n        vertical-align: middle;\n    }\n\n    .dataframe tbody tr th {\n        vertical-align: top;\n    }\n\n    .dataframe thead th {\n        text-align: right;\n    }\n</style>\n<table border=\"1\" class=\"dataframe\">\n  <thead>\n    <tr style=\"text-align: right;\">\n      <th></th>\n      <th>id</th>\n      <th>dateAdded</th>\n      <th>categories</th>\n      <th>primaryCategories</th>\n      <th>city</th>\n      <th>country</th>\n      <th>keys</th>\n      <th>latitude</th>\n      <th>longitude</th>\n      <th>menuPageURL</th>\n      <th>...</th>\n      <th>menus.currency</th>\n      <th>menus.dateSeen</th>\n      <th>menus.description</th>\n      <th>menus.name</th>\n      <th>name</th>\n      <th>postalCode</th>\n      <th>priceRangeCurrency</th>\n      <th>priceRangeMin</th>\n      <th>priceRangeMax</th>\n      <th>province</th>\n    </tr>\n  </thead>\n  <tbody>\n    <tr>\n      <th>0</th>\n      <td>AVz3Y-7h3D1zeR_xDAqm</td>\n      <td>2017-06-30T05:05:40Z</td>\n      <td>Pizza,Restaurant,American restaurants,Pizza Pl...</td>\n      <td>Accommodation &amp; Food Services</td>\n      <td>Sherwood</td>\n      <td>US</td>\n      <td>us/ar/sherwood/4203ekiehlave/-1051391616</td>\n      <td>34.832300</td>\n      <td>-92.183800</td>\n      <td>http://www.citysearch.com/profile/menu/1550074...</td>\n      <td>...</td>\n      <td>USD</td>\n      <td>2018-05-01T04:25:37.197Z,2018-04-16T04:36:02.3...</td>\n      <td>NaN</td>\n      <td>Cheese Pizza</td>\n      <td>Shotgun Dans Pizza</td>\n      <td>72120</td>\n      <td>USD</td>\n      <td>0</td>\n      <td>25</td>\n      <td>AR</td>\n    </tr>\n    <tr>\n      <th>1</th>\n      <td>AVweGPFF_7pvs4fzAAzQ</td>\n      <td>2016-04-02T04:02:49Z</td>\n      <td>Pizza,Pizza Place,Restaurants</td>\n      <td>Accommodation &amp; Food Services</td>\n      <td>Phoenix</td>\n      <td>US</td>\n      <td>us/az/phoenix/25ecamelbackrd/-727422936</td>\n      <td>33.509266</td>\n      <td>-112.073044</td>\n      <td>NaN</td>\n      <td>...</td>\n      <td>USD</td>\n      <td>2018-03-03T02:38:06.381Z,2018-01-18T20:18:10.0...</td>\n      <td>NaN</td>\n      <td>Pizza Cookie</td>\n      <td>Sauce Pizza Wine</td>\n      <td>85012</td>\n      <td>USD</td>\n      <td>0</td>\n      <td>25</td>\n      <td>AZ</td>\n    </tr>\n    <tr>\n      <th>2</th>\n      <td>AVwdRGa9_7pvs4fz4E3K</td>\n      <td>2016-03-03T18:39:49Z</td>\n      <td>Restaurant,Pizza Place,Restaurants</td>\n      <td>Accommodation &amp; Food Services</td>\n      <td>Cincinnati</td>\n      <td>US</td>\n      <td>us/oh/cincinnati/3703paxtonave/-619797122</td>\n      <td>39.144883</td>\n      <td>-84.432685</td>\n      <td>http://www.citysearch.com/profile/menu/8160503...</td>\n      <td>...</td>\n      <td>USD</td>\n      <td>2018-04-10T07:58:34.585Z,2018-04-21T05:43:21.4...</td>\n      <td>a saucelessampcomma double cheese pizza with a...</td>\n      <td>Pizza Blanca</td>\n      <td>Mios Pizzeria</td>\n      <td>45209</td>\n      <td>USD</td>\n      <td>0</td>\n      <td>25</td>\n      <td>OH</td>\n    </tr>\n    <tr>\n      <th>3</th>\n      <td>AVwdX4psIN2L1WUfvJB1</td>\n      <td>2016-03-29T05:08:59Z</td>\n      <td>Pizza,Carry-out food,Pizza Place,Restaurants</td>\n      <td>Accommodation &amp; Food Services</td>\n      <td>Madison Heights</td>\n      <td>US</td>\n      <td>us/mi/madisonheights/30495johnrrd/-874863116</td>\n      <td>42.516669</td>\n      <td>-83.106630</td>\n      <td>NaN</td>\n      <td>...</td>\n      <td>USD</td>\n      <td>2016-10-20T21:50:02Z,2016-03-29T05:08:59Z</td>\n      <td>NaN</td>\n      <td>Small Pizza</td>\n      <td>Hungry Howies Pizza</td>\n      <td>48071</td>\n      <td>USD</td>\n      <td>25</td>\n      <td>40</td>\n      <td>MI</td>\n    </tr>\n    <tr>\n      <th>4</th>\n      <td>AVwdaeTtkufWRAb55pSH</td>\n      <td>2016-03-31T02:34:04Z</td>\n      <td>Pizza,American restaurants,Pizza Place,Pizza e...</td>\n      <td>Accommodation &amp; Food Services</td>\n      <td>Baltimore</td>\n      <td>US</td>\n      <td>us/md/baltimore/3600easternave/-1270965359</td>\n      <td>39.286630</td>\n      <td>-76.566984</td>\n      <td>NaN</td>\n      <td>...</td>\n      <td>USD</td>\n      <td>2016-03-31T02:34:04Z</td>\n      <td>NaN</td>\n      <td>Pizza Sub</td>\n      <td>Spartan Pizzeria</td>\n      <td>21224</td>\n      <td>USD</td>\n      <td>0</td>\n      <td>25</td>\n      <td>MD</td>\n    </tr>\n  </tbody>\n</table>\n<p>5 rows × 22 columns</p>\n</div>"
     },
     "execution_count": 6,
     "metadata": {},
     "output_type": "execute_result"
    }
   ],
   "source": [
    "pizza.head()"
   ]
  },
  {
   "cell_type": "code",
   "execution_count": 6,
   "outputs": [],
   "source": [],
   "metadata": {
    "collapsed": false,
    "pycharm": {
     "name": "#%%\n"
    }
   }
  },
  {
   "cell_type": "code",
   "execution_count": 7,
   "metadata": {
    "pycharm": {
     "name": "#%%\n"
    }
   },
   "outputs": [
    {
     "data": {
      "text/plain": "Index(['id', 'dateAdded', 'categories', 'primaryCategories', 'city', 'country',\n       'keys', 'latitude', 'longitude', 'menuPageURL', 'menus.amountMax',\n       'menus.amountMin', 'menus.currency', 'menus.dateSeen',\n       'menus.description', 'menus.name', 'name', 'postalCode',\n       'priceRangeCurrency', 'priceRangeMin', 'priceRangeMax', 'province'],\n      dtype='object')"
     },
     "execution_count": 7,
     "metadata": {},
     "output_type": "execute_result"
    }
   ],
   "source": [
    "# Выводим названия колонок\n",
    "pizza.columns"
   ]
  },
  {
   "cell_type": "code",
   "execution_count": 8,
   "outputs": [
    {
     "data": {
      "text/plain": "                     id             dateAdded  \\\n0  AVz3Y-7h3D1zeR_xDAqm  2017-06-30T05:05:40Z   \n1  AVweGPFF_7pvs4fzAAzQ  2016-04-02T04:02:49Z   \n2  AVwdRGa9_7pvs4fz4E3K  2016-03-03T18:39:49Z   \n3  AVwdX4psIN2L1WUfvJB1  2016-03-29T05:08:59Z   \n4  AVwdaeTtkufWRAb55pSH  2016-03-31T02:34:04Z   \n\n                                          categories  \\\n0  Pizza,Restaurant,American restaurants,Pizza Pl...   \n1                      Pizza,Pizza Place,Restaurants   \n2                 Restaurant,Pizza Place,Restaurants   \n3       Pizza,Carry-out food,Pizza Place,Restaurants   \n4  Pizza,American restaurants,Pizza Place,Pizza e...   \n\n               primaryCategories             city country  \\\n0  Accommodation & Food Services         Sherwood      US   \n1  Accommodation & Food Services          Phoenix      US   \n2  Accommodation & Food Services       Cincinnati      US   \n3  Accommodation & Food Services  Madison Heights      US   \n4  Accommodation & Food Services        Baltimore      US   \n\n                                           keys   latitude   longitude  \\\n0      us/ar/sherwood/4203ekiehlave/-1051391616  34.832300  -92.183800   \n1       us/az/phoenix/25ecamelbackrd/-727422936  33.509266 -112.073044   \n2     us/oh/cincinnati/3703paxtonave/-619797122  39.144883  -84.432685   \n3  us/mi/madisonheights/30495johnrrd/-874863116  42.516669  -83.106630   \n4    us/md/baltimore/3600easternave/-1270965359  39.286630  -76.566984   \n\n                                         menuPageURL  ...  menus.currency  \\\n0  http://www.citysearch.com/profile/menu/1550074...  ...             USD   \n1                                                NaN  ...             USD   \n2  http://www.citysearch.com/profile/menu/8160503...  ...             USD   \n3                                                NaN  ...             USD   \n4                                                NaN  ...             USD   \n\n                                      menus.dateSeen  \\\n0  2018-05-01T04:25:37.197Z,2018-04-16T04:36:02.3...   \n1  2018-03-03T02:38:06.381Z,2018-01-18T20:18:10.0...   \n2  2018-04-10T07:58:34.585Z,2018-04-21T05:43:21.4...   \n3          2016-10-20T21:50:02Z,2016-03-29T05:08:59Z   \n4                               2016-03-31T02:34:04Z   \n\n                                   menus.description    menus.name  \\\n0                                                NaN  Cheese Pizza   \n1                                                NaN  Pizza Cookie   \n2  a saucelessampcomma double cheese pizza with a...  Pizza Blanca   \n3                                                NaN   Small Pizza   \n4                                                NaN     Pizza Sub   \n\n                  name postalCode priceRangeCurrency priceRangeMin  \\\n0   Shotgun Dans Pizza      72120                USD             0   \n1     Sauce Pizza Wine      85012                USD             0   \n2        Mios Pizzeria      45209                USD             0   \n3  Hungry Howies Pizza      48071                USD            25   \n4     Spartan Pizzeria      21224                USD             0   \n\n  priceRangeMax  province  \n0            25        AR  \n1            25        AZ  \n2            25        OH  \n3            40        MI  \n4            25        MD  \n\n[5 rows x 22 columns]",
      "text/html": "<div>\n<style scoped>\n    .dataframe tbody tr th:only-of-type {\n        vertical-align: middle;\n    }\n\n    .dataframe tbody tr th {\n        vertical-align: top;\n    }\n\n    .dataframe thead th {\n        text-align: right;\n    }\n</style>\n<table border=\"1\" class=\"dataframe\">\n  <thead>\n    <tr style=\"text-align: right;\">\n      <th></th>\n      <th>id</th>\n      <th>dateAdded</th>\n      <th>categories</th>\n      <th>primaryCategories</th>\n      <th>city</th>\n      <th>country</th>\n      <th>keys</th>\n      <th>latitude</th>\n      <th>longitude</th>\n      <th>menuPageURL</th>\n      <th>...</th>\n      <th>menus.currency</th>\n      <th>menus.dateSeen</th>\n      <th>menus.description</th>\n      <th>menus.name</th>\n      <th>name</th>\n      <th>postalCode</th>\n      <th>priceRangeCurrency</th>\n      <th>priceRangeMin</th>\n      <th>priceRangeMax</th>\n      <th>province</th>\n    </tr>\n  </thead>\n  <tbody>\n    <tr>\n      <th>0</th>\n      <td>AVz3Y-7h3D1zeR_xDAqm</td>\n      <td>2017-06-30T05:05:40Z</td>\n      <td>Pizza,Restaurant,American restaurants,Pizza Pl...</td>\n      <td>Accommodation &amp; Food Services</td>\n      <td>Sherwood</td>\n      <td>US</td>\n      <td>us/ar/sherwood/4203ekiehlave/-1051391616</td>\n      <td>34.832300</td>\n      <td>-92.183800</td>\n      <td>http://www.citysearch.com/profile/menu/1550074...</td>\n      <td>...</td>\n      <td>USD</td>\n      <td>2018-05-01T04:25:37.197Z,2018-04-16T04:36:02.3...</td>\n      <td>NaN</td>\n      <td>Cheese Pizza</td>\n      <td>Shotgun Dans Pizza</td>\n      <td>72120</td>\n      <td>USD</td>\n      <td>0</td>\n      <td>25</td>\n      <td>AR</td>\n    </tr>\n    <tr>\n      <th>1</th>\n      <td>AVweGPFF_7pvs4fzAAzQ</td>\n      <td>2016-04-02T04:02:49Z</td>\n      <td>Pizza,Pizza Place,Restaurants</td>\n      <td>Accommodation &amp; Food Services</td>\n      <td>Phoenix</td>\n      <td>US</td>\n      <td>us/az/phoenix/25ecamelbackrd/-727422936</td>\n      <td>33.509266</td>\n      <td>-112.073044</td>\n      <td>NaN</td>\n      <td>...</td>\n      <td>USD</td>\n      <td>2018-03-03T02:38:06.381Z,2018-01-18T20:18:10.0...</td>\n      <td>NaN</td>\n      <td>Pizza Cookie</td>\n      <td>Sauce Pizza Wine</td>\n      <td>85012</td>\n      <td>USD</td>\n      <td>0</td>\n      <td>25</td>\n      <td>AZ</td>\n    </tr>\n    <tr>\n      <th>2</th>\n      <td>AVwdRGa9_7pvs4fz4E3K</td>\n      <td>2016-03-03T18:39:49Z</td>\n      <td>Restaurant,Pizza Place,Restaurants</td>\n      <td>Accommodation &amp; Food Services</td>\n      <td>Cincinnati</td>\n      <td>US</td>\n      <td>us/oh/cincinnati/3703paxtonave/-619797122</td>\n      <td>39.144883</td>\n      <td>-84.432685</td>\n      <td>http://www.citysearch.com/profile/menu/8160503...</td>\n      <td>...</td>\n      <td>USD</td>\n      <td>2018-04-10T07:58:34.585Z,2018-04-21T05:43:21.4...</td>\n      <td>a saucelessampcomma double cheese pizza with a...</td>\n      <td>Pizza Blanca</td>\n      <td>Mios Pizzeria</td>\n      <td>45209</td>\n      <td>USD</td>\n      <td>0</td>\n      <td>25</td>\n      <td>OH</td>\n    </tr>\n    <tr>\n      <th>3</th>\n      <td>AVwdX4psIN2L1WUfvJB1</td>\n      <td>2016-03-29T05:08:59Z</td>\n      <td>Pizza,Carry-out food,Pizza Place,Restaurants</td>\n      <td>Accommodation &amp; Food Services</td>\n      <td>Madison Heights</td>\n      <td>US</td>\n      <td>us/mi/madisonheights/30495johnrrd/-874863116</td>\n      <td>42.516669</td>\n      <td>-83.106630</td>\n      <td>NaN</td>\n      <td>...</td>\n      <td>USD</td>\n      <td>2016-10-20T21:50:02Z,2016-03-29T05:08:59Z</td>\n      <td>NaN</td>\n      <td>Small Pizza</td>\n      <td>Hungry Howies Pizza</td>\n      <td>48071</td>\n      <td>USD</td>\n      <td>25</td>\n      <td>40</td>\n      <td>MI</td>\n    </tr>\n    <tr>\n      <th>4</th>\n      <td>AVwdaeTtkufWRAb55pSH</td>\n      <td>2016-03-31T02:34:04Z</td>\n      <td>Pizza,American restaurants,Pizza Place,Pizza e...</td>\n      <td>Accommodation &amp; Food Services</td>\n      <td>Baltimore</td>\n      <td>US</td>\n      <td>us/md/baltimore/3600easternave/-1270965359</td>\n      <td>39.286630</td>\n      <td>-76.566984</td>\n      <td>NaN</td>\n      <td>...</td>\n      <td>USD</td>\n      <td>2016-03-31T02:34:04Z</td>\n      <td>NaN</td>\n      <td>Pizza Sub</td>\n      <td>Spartan Pizzeria</td>\n      <td>21224</td>\n      <td>USD</td>\n      <td>0</td>\n      <td>25</td>\n      <td>MD</td>\n    </tr>\n  </tbody>\n</table>\n<p>5 rows × 22 columns</p>\n</div>"
     },
     "execution_count": 8,
     "metadata": {},
     "output_type": "execute_result"
    }
   ],
   "source": [
    "pizza.head()"
   ],
   "metadata": {
    "collapsed": false,
    "pycharm": {
     "name": "#%%\n"
    }
   }
  },
  {
   "cell_type": "code",
   "execution_count": 9,
   "metadata": {
    "pycharm": {
     "name": "#%%\n"
    }
   },
   "outputs": [],
   "source": [
    "\n",
    "pizza['pizzeria_name_len'] = pizza.name.apply(lambda x:len(x) )"
   ]
  },
  {
   "cell_type": "code",
   "execution_count": 10,
   "outputs": [
    {
     "data": {
      "text/plain": "                                      menus.description  \\\n0                                                   NaN   \n1                                                   NaN   \n2     a saucelessampcomma double cheese pizza with a...   \n3                                                   NaN   \n4                                                   NaN   \n...                                                 ...   \n9995                                                NaN   \n9996                                                NaN   \n9997                                                NaN   \n9998                                                NaN   \n9999                                                NaN   \n\n                                           menus.name  \n0                                        Cheese Pizza  \n1                                        Pizza Cookie  \n2                                        Pizza Blanca  \n3                                         Small Pizza  \n4                                           Pizza Sub  \n...                                               ...  \n9995                                Super Steak Pizza  \n9996                      Large Cheese & 1 Item Pizza  \n9997  Individual 6\" Pepperoni Stuffed Deep Dish Pizza  \n9998     Individual 6\" Cheese Stuffed Deep Dish Pizza  \n9999                      King Arthur's Supreme Pizza  \n\n[10000 rows x 2 columns]",
      "text/html": "<div>\n<style scoped>\n    .dataframe tbody tr th:only-of-type {\n        vertical-align: middle;\n    }\n\n    .dataframe tbody tr th {\n        vertical-align: top;\n    }\n\n    .dataframe thead th {\n        text-align: right;\n    }\n</style>\n<table border=\"1\" class=\"dataframe\">\n  <thead>\n    <tr style=\"text-align: right;\">\n      <th></th>\n      <th>menus.description</th>\n      <th>menus.name</th>\n    </tr>\n  </thead>\n  <tbody>\n    <tr>\n      <th>0</th>\n      <td>NaN</td>\n      <td>Cheese Pizza</td>\n    </tr>\n    <tr>\n      <th>1</th>\n      <td>NaN</td>\n      <td>Pizza Cookie</td>\n    </tr>\n    <tr>\n      <th>2</th>\n      <td>a saucelessampcomma double cheese pizza with a...</td>\n      <td>Pizza Blanca</td>\n    </tr>\n    <tr>\n      <th>3</th>\n      <td>NaN</td>\n      <td>Small Pizza</td>\n    </tr>\n    <tr>\n      <th>4</th>\n      <td>NaN</td>\n      <td>Pizza Sub</td>\n    </tr>\n    <tr>\n      <th>...</th>\n      <td>...</td>\n      <td>...</td>\n    </tr>\n    <tr>\n      <th>9995</th>\n      <td>NaN</td>\n      <td>Super Steak Pizza</td>\n    </tr>\n    <tr>\n      <th>9996</th>\n      <td>NaN</td>\n      <td>Large Cheese &amp; 1 Item Pizza</td>\n    </tr>\n    <tr>\n      <th>9997</th>\n      <td>NaN</td>\n      <td>Individual 6\" Pepperoni Stuffed Deep Dish Pizza</td>\n    </tr>\n    <tr>\n      <th>9998</th>\n      <td>NaN</td>\n      <td>Individual 6\" Cheese Stuffed Deep Dish Pizza</td>\n    </tr>\n    <tr>\n      <th>9999</th>\n      <td>NaN</td>\n      <td>King Arthur's Supreme Pizza</td>\n    </tr>\n  </tbody>\n</table>\n<p>10000 rows × 2 columns</p>\n</div>"
     },
     "execution_count": 10,
     "metadata": {},
     "output_type": "execute_result"
    }
   ],
   "source": [
    "pizza[['menus.description', 'menus.name']]"
   ],
   "metadata": {
    "collapsed": false,
    "pycharm": {
     "name": "#%%\n"
    }
   }
  },
  {
   "cell_type": "code",
   "execution_count": 11,
   "metadata": {
    "pycharm": {
     "name": "#%%\n"
    }
   },
   "outputs": [
    {
     "data": {
      "text/plain": "1827"
     },
     "execution_count": 11,
     "metadata": {},
     "output_type": "execute_result"
    }
   ],
   "source": [
    "# Количество уникальных значений в колонке\n",
    "pizza.name.nunique()"
   ]
  },
  {
   "cell_type": "code",
   "execution_count": 12,
   "metadata": {
    "pycharm": {
     "name": "#%%\n"
    }
   },
   "outputs": [
    {
     "data": {
      "text/plain": "array(['Shotgun Dans Pizza', 'Sauce Pizza Wine', 'Mios Pizzeria', ...,\n       'Bella Italia', 'Wood and Fire', \"Carbone's Pizzeria\"],\n      dtype=object)"
     },
     "execution_count": 12,
     "metadata": {},
     "output_type": "execute_result"
    }
   ],
   "source": [
    "# Уникальные значения в колонке\n",
    "pizza.name.unique()"
   ]
  },
  {
   "cell_type": "code",
   "execution_count": 13,
   "outputs": [
    {
     "data": {
      "text/plain": "0       AR\n1       AZ\n2       OH\n3       MI\n4       MD\n        ..\n9995    NY\n9996    NY\n9997    IL\n9998    IL\n9999    NV\nName: province, Length: 10000, dtype: object"
     },
     "execution_count": 13,
     "metadata": {},
     "output_type": "execute_result"
    }
   ],
   "source": [
    "pizza.province"
   ],
   "metadata": {
    "collapsed": false,
    "pycharm": {
     "name": "#%%\n"
    }
   }
  },
  {
   "cell_type": "code",
   "execution_count": 14,
   "outputs": [],
   "source": [
    "pizzaz_by_province = pizza.groupby('province')['name'].nunique()"
   ],
   "metadata": {
    "collapsed": false,
    "pycharm": {
     "name": "#%%\n"
    }
   }
  },
  {
   "cell_type": "code",
   "execution_count": 14,
   "outputs": [],
   "source": [],
   "metadata": {
    "collapsed": false,
    "pycharm": {
     "name": "#%%\n"
    }
   }
  },
  {
   "cell_type": "code",
   "execution_count": 15,
   "metadata": {
    "pycharm": {
     "name": "#%%\n"
    }
   },
   "outputs": [],
   "source": [
    "# Группируем с помощью groupby\n",
    "# количество уникальных названий по регионам \n",
    "pizzaz_by_province = pizza.groupby(['province'])['name'].nunique().reset_index()"
   ]
  },
  {
   "cell_type": "code",
   "execution_count": 15,
   "outputs": [],
   "source": [],
   "metadata": {
    "collapsed": false,
    "pycharm": {
     "name": "#%%\n"
    }
   }
  },
  {
   "cell_type": "code",
   "execution_count": 16,
   "metadata": {
    "pycharm": {
     "name": "#%%\n"
    }
   },
   "outputs": [],
   "source": [
    "# pizzaz_by_province"
   ]
  },
  {
   "cell_type": "code",
   "execution_count": 17,
   "metadata": {
    "pycharm": {
     "name": "#%%\n"
    }
   },
   "outputs": [
    {
     "data": {
      "text/plain": "Index(['province', 'name'], dtype='object')"
     },
     "execution_count": 17,
     "metadata": {},
     "output_type": "execute_result"
    }
   ],
   "source": [
    "# проверяем названия колонок\n",
    "pizzaz_by_province.columns"
   ]
  },
  {
   "cell_type": "code",
   "execution_count": 18,
   "metadata": {
    "pycharm": {
     "name": "#%%\n"
    }
   },
   "outputs": [],
   "source": [
    "# Меняем названия на те что нам нравятся\n",
    "pizzaz_by_province.columns = ['province','quantity']"
   ]
  },
  {
   "cell_type": "code",
   "execution_count": 19,
   "outputs": [],
   "source": [
    "pizzaz_by_province = pizzaz_by_province.rename(columns={'name':'quantity'},\n",
    "                          # inplace=True\n",
    "                          )"
   ],
   "metadata": {
    "collapsed": false,
    "pycharm": {
     "name": "#%%\n"
    }
   }
  },
  {
   "cell_type": "code",
   "execution_count": 20,
   "metadata": {
    "pycharm": {
     "name": "#%%\n"
    }
   },
   "outputs": [],
   "source": [
    "pizzaz_by_province.rename(columns={'name':'quantity'},\n",
    "                          inplace=True\n",
    "                          )"
   ]
  },
  {
   "cell_type": "code",
   "execution_count": 21,
   "metadata": {
    "pycharm": {
     "name": "#%%\n"
    }
   },
   "outputs": [],
   "source": [
    "# pizzaz_by_province"
   ]
  },
  {
   "cell_type": "code",
   "execution_count": 22,
   "metadata": {
    "pycharm": {
     "name": "#%%\n"
    }
   },
   "outputs": [],
   "source": [
    "# Сортируем по полю quantity\n",
    "pizzaz_by_province = pizzaz_by_province.sort_values(by=['quantity'], ascending=[False])"
   ]
  },
  {
   "cell_type": "code",
   "execution_count": 22,
   "metadata": {
    "pycharm": {
     "name": "#%%\n"
    }
   },
   "outputs": [],
   "source": []
  },
  {
   "cell_type": "code",
   "execution_count": 23,
   "metadata": {
    "pycharm": {
     "name": "#%%\n"
    }
   },
   "outputs": [],
   "source": [
    "# Размечаем те регионы, где много пиццерий с помощью numpy\n",
    "pizzaz_by_province['many_or_not_many_pd'] = np.where(pizzaz_by_province['quantity']> 100,1,0)"
   ]
  },
  {
   "cell_type": "code",
   "execution_count": 24,
   "metadata": {
    "pycharm": {
     "name": "#%%\n"
    }
   },
   "outputs": [
    {
     "data": {
      "text/plain": "array([1, 1, 1, 1, 1, 1, 0, 0, 0, 0, 0, 0, 0, 0, 0, 0, 0, 0, 0, 0, 0, 0,\n       0, 0, 0, 0, 0, 0, 0, 0, 0, 0, 0, 0, 0, 0, 0, 0, 0, 0, 0, 0, 0, 0])"
     },
     "execution_count": 24,
     "metadata": {},
     "output_type": "execute_result"
    }
   ],
   "source": [
    "np.where(pizzaz_by_province['quantity']> 100,1,0)"
   ]
  },
  {
   "cell_type": "code",
   "execution_count": 25,
   "outputs": [
    {
     "data": {
      "text/plain": "30     True\n4      True\n34     True\n8      True\n38     True\n13     True\n31    False\n19    False\n24    False\n9     False\n40    False\n14    False\n3     False\n41    False\n5     False\n18    False\n42    False\n21    False\n33    False\n35    False\n37    False\n20    False\n16    False\n29    False\n39    False\n11    False\n15    False\n32    False\n28    False\n17    False\n2     False\n26    False\n7     False\n22    False\n43    False\n12    False\n1     False\n0     False\n36    False\n27    False\n25    False\n23    False\n10    False\n6     False\nName: quantity, dtype: bool"
     },
     "execution_count": 25,
     "metadata": {},
     "output_type": "execute_result"
    }
   ],
   "source": [
    "pizzaz_by_province['quantity'] > 100"
   ],
   "metadata": {
    "collapsed": false,
    "pycharm": {
     "name": "#%%\n"
    }
   }
  },
  {
   "cell_type": "code",
   "execution_count": 26,
   "outputs": [
    {
     "name": "stderr",
     "output_type": "stream",
     "text": [
      "/var/folders/9z/_pdr4vys3c9_sdhkgcm_5s540000gn/T/ipykernel_2014/107677823.py:1: SettingWithCopyWarning: \n",
      "A value is trying to be set on a copy of a slice from a DataFrame.\n",
      "Try using .loc[row_indexer,col_indexer] = value instead\n",
      "\n",
      "See the caveats in the documentation: https://pandas.pydata.org/pandas-docs/stable/user_guide/indexing.html#returning-a-view-versus-a-copy\n",
      "  pizzaz_by_province[pizzaz_by_province['quantity'] > 100]['many_or_not_many_pd'] = 1\n"
     ]
    }
   ],
   "source": [
    "pizzaz_by_province[pizzaz_by_province['quantity'] > 100]['many_or_not_many_pd'] = 1"
   ],
   "metadata": {
    "collapsed": false,
    "pycharm": {
     "name": "#%%\n"
    }
   }
  },
  {
   "cell_type": "code",
   "execution_count": 28,
   "metadata": {
    "pycharm": {
     "name": "#%%\n"
    }
   },
   "outputs": [],
   "source": [
    "# Размечаем те регионы, где много пиццерий с помощью pandas\n",
    "\n",
    "# Неправильный вариант\n",
    "# pizzaz_by_province[pizzaz_by_province['quantity'] > 100]['many_or_not_many_pd'] = 1\n",
    "# pizzaz_by_province[pizzaz_by_province['quantity'] <=100]['many_or_not_many_pd'] = 0\n",
    "\n",
    "# Правильный вариант\n",
    "pizzaz_by_province['less_10'] = 0\n",
    "pizzaz_by_province.loc[pizzaz_by_province['quantity'] < 10, 'less_10' ] = 1"
   ]
  },
  {
   "cell_type": "code",
   "execution_count": 29,
   "metadata": {
    "pycharm": {
     "name": "#%%\n"
    }
   },
   "outputs": [],
   "source": [
    "less_10_provinces = pizzaz_by_province.loc[pizzaz_by_province['quantity'] < 10, 'province' ].tolist()"
   ]
  },
  {
   "cell_type": "code",
   "execution_count": 30,
   "outputs": [
    {
     "data": {
      "text/plain": "['NE', 'DE', 'MS', 'WV', 'ID', 'AL', 'AK', 'SD', 'NJ', 'ND', 'MT', 'HI', 'CT']"
     },
     "execution_count": 30,
     "metadata": {},
     "output_type": "execute_result"
    }
   ],
   "source": [
    "less_10_provinces"
   ],
   "metadata": {
    "collapsed": false,
    "pycharm": {
     "name": "#%%\n"
    }
   }
  },
  {
   "cell_type": "code",
   "execution_count": 31,
   "metadata": {
    "pycharm": {
     "name": "#%%\n"
    }
   },
   "outputs": [
    {
     "data": {
      "text/plain": "30    0.0\n4     0.0\n34    0.0\n8     0.0\n38    0.0\n13    0.0\n31    0.0\n19    0.0\n24    0.0\n9     0.0\n40    0.0\n14    0.0\n3     0.0\n41    0.0\n5     0.0\n18    0.0\n42    0.0\n21    0.0\n33    0.0\n35    0.0\n37    0.0\n20    0.0\n16    0.0\n29    0.0\n39    0.0\n11    0.0\n15    0.0\n32    0.0\n28    0.0\n17    0.0\n2     0.0\n26    1.0\n7     1.0\n22    1.0\n43    1.0\n12    1.0\n1     1.0\n0     1.0\n36    1.0\n27    1.0\n25    1.0\n23    1.0\n10    1.0\n6     1.0\nName: less_10, dtype: float64"
     },
     "execution_count": 31,
     "metadata": {},
     "output_type": "execute_result"
    }
   ],
   "source": [
    "# Меняем тип данных в колонке\n",
    "pizzaz_by_province.less_10.astype(float)"
   ]
  },
  {
   "cell_type": "code",
   "execution_count": 32,
   "metadata": {
    "pycharm": {
     "name": "#%%\n"
    }
   },
   "outputs": [],
   "source": [
    "# Рассчитываем сумму или среднее значение по колонке"
   ]
  },
  {
   "cell_type": "code",
   "execution_count": 33,
   "outputs": [
    {
     "data": {
      "text/plain": "30    3.95%\n4     2.19%\n34    1.72%\n8     1.45%\n38    1.17%\n13    1.11%\n31    0.82%\n19    0.79%\n24    0.62%\n9     0.53%\n40    0.52%\n14    0.52%\n3      0.5%\n41    0.49%\n5     0.35%\n18    0.32%\n42    0.32%\n21    0.28%\n33    0.28%\n35    0.26%\n37    0.25%\n20    0.23%\n16    0.21%\n29    0.19%\n39    0.15%\n11    0.15%\n15    0.12%\n32    0.11%\n28    0.11%\n17     0.1%\n2      0.1%\n26    0.09%\n7     0.07%\n22    0.07%\n43    0.06%\n12    0.04%\n1     0.03%\n0     0.03%\n36    0.02%\n27    0.01%\n25    0.01%\n23    0.01%\n10    0.01%\n6     0.01%\nName: quantity, dtype: object"
     },
     "execution_count": 33,
     "metadata": {},
     "output_type": "execute_result"
    }
   ],
   "source": [
    "pizzaz_by_province.quantity.mul(10).divide(1000).round(2).astype(str) + '%'"
   ],
   "metadata": {
    "collapsed": false,
    "pycharm": {
     "name": "#%%\n"
    }
   }
  },
  {
   "cell_type": "code",
   "execution_count": 22,
   "metadata": {
    "pycharm": {
     "name": "#%%\n"
    }
   },
   "outputs": [],
   "source": [
    "# Применение функции к элекментам колонки"
   ]
  },
  {
   "cell_type": "code",
   "execution_count": 34,
   "metadata": {
    "pycharm": {
     "name": "#%%\n"
    }
   },
   "outputs": [],
   "source": [
    "def qdevtwo(x):\n",
    "    if int(x) % 2 == 0:\n",
    "        return 1\n",
    "    else:\n",
    "        return 0\n",
    "        \n",
    "pizzaz_by_province['dev2'] = pizzaz_by_province.quantity.apply(lambda x: qdevtwo(x))"
   ]
  },
  {
   "cell_type": "code",
   "execution_count": 35,
   "metadata": {
    "pycharm": {
     "name": "#%%\n"
    }
   },
   "outputs": [],
   "source": [
    "pizzaz_by_province['dev2'] = pizzaz_by_province.quantity.apply(qdevtwo)"
   ]
  },
  {
   "cell_type": "code",
   "execution_count": 36,
   "metadata": {
    "pycharm": {
     "name": "#%%\n"
    }
   },
   "outputs": [
    {
     "data": {
      "text/plain": "   province  quantity  many_or_not_many_pd  less_10  dev2\n30       NY       395                    1        0     0\n4        CA       219                    1        0     0\n34       PA       172                    1        0     1",
      "text/html": "<div>\n<style scoped>\n    .dataframe tbody tr th:only-of-type {\n        vertical-align: middle;\n    }\n\n    .dataframe tbody tr th {\n        vertical-align: top;\n    }\n\n    .dataframe thead th {\n        text-align: right;\n    }\n</style>\n<table border=\"1\" class=\"dataframe\">\n  <thead>\n    <tr style=\"text-align: right;\">\n      <th></th>\n      <th>province</th>\n      <th>quantity</th>\n      <th>many_or_not_many_pd</th>\n      <th>less_10</th>\n      <th>dev2</th>\n    </tr>\n  </thead>\n  <tbody>\n    <tr>\n      <th>30</th>\n      <td>NY</td>\n      <td>395</td>\n      <td>1</td>\n      <td>0</td>\n      <td>0</td>\n    </tr>\n    <tr>\n      <th>4</th>\n      <td>CA</td>\n      <td>219</td>\n      <td>1</td>\n      <td>0</td>\n      <td>0</td>\n    </tr>\n    <tr>\n      <th>34</th>\n      <td>PA</td>\n      <td>172</td>\n      <td>1</td>\n      <td>0</td>\n      <td>1</td>\n    </tr>\n  </tbody>\n</table>\n</div>"
     },
     "execution_count": 36,
     "metadata": {},
     "output_type": "execute_result"
    }
   ],
   "source": [
    "pizzaz_by_province.head(3)"
   ]
  },
  {
   "cell_type": "code",
   "execution_count": 37,
   "metadata": {
    "pycharm": {
     "name": "#%%\n"
    }
   },
   "outputs": [
    {
     "data": {
      "text/plain": "province                CA\nquantity               219\nmany_or_not_many_pd      1\nless_10                  0\ndev2                     0\nName: 4, dtype: object"
     },
     "execution_count": 37,
     "metadata": {},
     "output_type": "execute_result"
    }
   ],
   "source": [
    "pizzaz_by_province.iloc[1,:]"
   ]
  },
  {
   "cell_type": "code",
   "execution_count": 37,
   "metadata": {
    "pycharm": {
     "name": "#%%\n"
    }
   },
   "outputs": [],
   "source": []
  },
  {
   "cell_type": "code",
   "execution_count": 37,
   "metadata": {
    "pycharm": {
     "name": "#%%\n"
    }
   },
   "outputs": [],
   "source": []
  },
  {
   "cell_type": "code",
   "execution_count": 37,
   "metadata": {
    "pycharm": {
     "name": "#%%\n"
    }
   },
   "outputs": [],
   "source": []
  },
  {
   "cell_type": "code",
   "execution_count": 38,
   "metadata": {
    "pycharm": {
     "name": "#%%\n"
    }
   },
   "outputs": [],
   "source": [
    "# Альтернативный вариант\n",
    "dev2list = []\n",
    "for i in range(pizzaz_by_province.shape[0]):\n",
    "    val =  pizzaz_by_province.iloc[i,1]\n",
    "    dev2list.append(qdevtwo(val))\n",
    "\n",
    "pizzaz_by_province['dev2_loop'] = dev2list"
   ]
  },
  {
   "cell_type": "code",
   "execution_count": 39,
   "metadata": {
    "pycharm": {
     "name": "#%%\n"
    }
   },
   "outputs": [
    {
     "data": {
      "text/plain": "   province  quantity  many_or_not_many_pd  less_10  dev2  dev2_loop\n30       NY       395                    1        0     0          0\n4        CA       219                    1        0     0          0\n34       PA       172                    1        0     1          1\n8        FL       145                    1        0     0          0\n38       TX       117                    1        0     0          0",
      "text/html": "<div>\n<style scoped>\n    .dataframe tbody tr th:only-of-type {\n        vertical-align: middle;\n    }\n\n    .dataframe tbody tr th {\n        vertical-align: top;\n    }\n\n    .dataframe thead th {\n        text-align: right;\n    }\n</style>\n<table border=\"1\" class=\"dataframe\">\n  <thead>\n    <tr style=\"text-align: right;\">\n      <th></th>\n      <th>province</th>\n      <th>quantity</th>\n      <th>many_or_not_many_pd</th>\n      <th>less_10</th>\n      <th>dev2</th>\n      <th>dev2_loop</th>\n    </tr>\n  </thead>\n  <tbody>\n    <tr>\n      <th>30</th>\n      <td>NY</td>\n      <td>395</td>\n      <td>1</td>\n      <td>0</td>\n      <td>0</td>\n      <td>0</td>\n    </tr>\n    <tr>\n      <th>4</th>\n      <td>CA</td>\n      <td>219</td>\n      <td>1</td>\n      <td>0</td>\n      <td>0</td>\n      <td>0</td>\n    </tr>\n    <tr>\n      <th>34</th>\n      <td>PA</td>\n      <td>172</td>\n      <td>1</td>\n      <td>0</td>\n      <td>1</td>\n      <td>1</td>\n    </tr>\n    <tr>\n      <th>8</th>\n      <td>FL</td>\n      <td>145</td>\n      <td>1</td>\n      <td>0</td>\n      <td>0</td>\n      <td>0</td>\n    </tr>\n    <tr>\n      <th>38</th>\n      <td>TX</td>\n      <td>117</td>\n      <td>1</td>\n      <td>0</td>\n      <td>0</td>\n      <td>0</td>\n    </tr>\n  </tbody>\n</table>\n</div>"
     },
     "execution_count": 39,
     "metadata": {},
     "output_type": "execute_result"
    }
   ],
   "source": [
    "pizzaz_by_province.head()"
   ]
  },
  {
   "cell_type": "code",
   "execution_count": 40,
   "metadata": {
    "pycharm": {
     "name": "#%%\n"
    }
   },
   "outputs": [
    {
     "data": {
      "text/plain": "(10000, 23)"
     },
     "execution_count": 40,
     "metadata": {},
     "output_type": "execute_result"
    }
   ],
   "source": [
    "pizza.shape"
   ]
  },
  {
   "cell_type": "markdown",
   "metadata": {
    "pycharm": {
     "name": "#%% md\n"
    }
   },
   "source": [
    "# Практическое задание"
   ]
  },
  {
   "cell_type": "code",
   "execution_count": 42,
   "outputs": [
    {
     "data": {
      "text/plain": "                     id             dateAdded  \\\n0  AVz3Y-7h3D1zeR_xDAqm  2017-06-30T05:05:40Z   \n1  AVweGPFF_7pvs4fzAAzQ  2016-04-02T04:02:49Z   \n2  AVwdRGa9_7pvs4fz4E3K  2016-03-03T18:39:49Z   \n3  AVwdX4psIN2L1WUfvJB1  2016-03-29T05:08:59Z   \n4  AVwdaeTtkufWRAb55pSH  2016-03-31T02:34:04Z   \n\n                                          categories  \\\n0  Pizza,Restaurant,American restaurants,Pizza Pl...   \n1                      Pizza,Pizza Place,Restaurants   \n2                 Restaurant,Pizza Place,Restaurants   \n3       Pizza,Carry-out food,Pizza Place,Restaurants   \n4  Pizza,American restaurants,Pizza Place,Pizza e...   \n\n               primaryCategories             city country  \\\n0  Accommodation & Food Services         Sherwood      US   \n1  Accommodation & Food Services          Phoenix      US   \n2  Accommodation & Food Services       Cincinnati      US   \n3  Accommodation & Food Services  Madison Heights      US   \n4  Accommodation & Food Services        Baltimore      US   \n\n                                           keys   latitude   longitude  \\\n0      us/ar/sherwood/4203ekiehlave/-1051391616  34.832300  -92.183800   \n1       us/az/phoenix/25ecamelbackrd/-727422936  33.509266 -112.073044   \n2     us/oh/cincinnati/3703paxtonave/-619797122  39.144883  -84.432685   \n3  us/mi/madisonheights/30495johnrrd/-874863116  42.516669  -83.106630   \n4    us/md/baltimore/3600easternave/-1270965359  39.286630  -76.566984   \n\n                                         menuPageURL  ...  \\\n0  http://www.citysearch.com/profile/menu/1550074...  ...   \n1                                                NaN  ...   \n2  http://www.citysearch.com/profile/menu/8160503...  ...   \n3                                                NaN  ...   \n4                                                NaN  ...   \n\n                                      menus.dateSeen  \\\n0  2018-05-01T04:25:37.197Z,2018-04-16T04:36:02.3...   \n1  2018-03-03T02:38:06.381Z,2018-01-18T20:18:10.0...   \n2  2018-04-10T07:58:34.585Z,2018-04-21T05:43:21.4...   \n3          2016-10-20T21:50:02Z,2016-03-29T05:08:59Z   \n4                               2016-03-31T02:34:04Z   \n\n                                   menus.description    menus.name  \\\n0                                                NaN  Cheese Pizza   \n1                                                NaN  Pizza Cookie   \n2  a saucelessampcomma double cheese pizza with a...  Pizza Blanca   \n3                                                NaN   Small Pizza   \n4                                                NaN     Pizza Sub   \n\n                  name postalCode priceRangeCurrency priceRangeMin  \\\n0   Shotgun Dans Pizza      72120                USD             0   \n1     Sauce Pizza Wine      85012                USD             0   \n2        Mios Pizzeria      45209                USD             0   \n3  Hungry Howies Pizza      48071                USD            25   \n4     Spartan Pizzeria      21224                USD             0   \n\n  priceRangeMax province  pizzeria_name_len  \n0            25       AR                 18  \n1            25       AZ                 16  \n2            25       OH                 13  \n3            40       MI                 19  \n4            25       MD                 16  \n\n[5 rows x 23 columns]",
      "text/html": "<div>\n<style scoped>\n    .dataframe tbody tr th:only-of-type {\n        vertical-align: middle;\n    }\n\n    .dataframe tbody tr th {\n        vertical-align: top;\n    }\n\n    .dataframe thead th {\n        text-align: right;\n    }\n</style>\n<table border=\"1\" class=\"dataframe\">\n  <thead>\n    <tr style=\"text-align: right;\">\n      <th></th>\n      <th>id</th>\n      <th>dateAdded</th>\n      <th>categories</th>\n      <th>primaryCategories</th>\n      <th>city</th>\n      <th>country</th>\n      <th>keys</th>\n      <th>latitude</th>\n      <th>longitude</th>\n      <th>menuPageURL</th>\n      <th>...</th>\n      <th>menus.dateSeen</th>\n      <th>menus.description</th>\n      <th>menus.name</th>\n      <th>name</th>\n      <th>postalCode</th>\n      <th>priceRangeCurrency</th>\n      <th>priceRangeMin</th>\n      <th>priceRangeMax</th>\n      <th>province</th>\n      <th>pizzeria_name_len</th>\n    </tr>\n  </thead>\n  <tbody>\n    <tr>\n      <th>0</th>\n      <td>AVz3Y-7h3D1zeR_xDAqm</td>\n      <td>2017-06-30T05:05:40Z</td>\n      <td>Pizza,Restaurant,American restaurants,Pizza Pl...</td>\n      <td>Accommodation &amp; Food Services</td>\n      <td>Sherwood</td>\n      <td>US</td>\n      <td>us/ar/sherwood/4203ekiehlave/-1051391616</td>\n      <td>34.832300</td>\n      <td>-92.183800</td>\n      <td>http://www.citysearch.com/profile/menu/1550074...</td>\n      <td>...</td>\n      <td>2018-05-01T04:25:37.197Z,2018-04-16T04:36:02.3...</td>\n      <td>NaN</td>\n      <td>Cheese Pizza</td>\n      <td>Shotgun Dans Pizza</td>\n      <td>72120</td>\n      <td>USD</td>\n      <td>0</td>\n      <td>25</td>\n      <td>AR</td>\n      <td>18</td>\n    </tr>\n    <tr>\n      <th>1</th>\n      <td>AVweGPFF_7pvs4fzAAzQ</td>\n      <td>2016-04-02T04:02:49Z</td>\n      <td>Pizza,Pizza Place,Restaurants</td>\n      <td>Accommodation &amp; Food Services</td>\n      <td>Phoenix</td>\n      <td>US</td>\n      <td>us/az/phoenix/25ecamelbackrd/-727422936</td>\n      <td>33.509266</td>\n      <td>-112.073044</td>\n      <td>NaN</td>\n      <td>...</td>\n      <td>2018-03-03T02:38:06.381Z,2018-01-18T20:18:10.0...</td>\n      <td>NaN</td>\n      <td>Pizza Cookie</td>\n      <td>Sauce Pizza Wine</td>\n      <td>85012</td>\n      <td>USD</td>\n      <td>0</td>\n      <td>25</td>\n      <td>AZ</td>\n      <td>16</td>\n    </tr>\n    <tr>\n      <th>2</th>\n      <td>AVwdRGa9_7pvs4fz4E3K</td>\n      <td>2016-03-03T18:39:49Z</td>\n      <td>Restaurant,Pizza Place,Restaurants</td>\n      <td>Accommodation &amp; Food Services</td>\n      <td>Cincinnati</td>\n      <td>US</td>\n      <td>us/oh/cincinnati/3703paxtonave/-619797122</td>\n      <td>39.144883</td>\n      <td>-84.432685</td>\n      <td>http://www.citysearch.com/profile/menu/8160503...</td>\n      <td>...</td>\n      <td>2018-04-10T07:58:34.585Z,2018-04-21T05:43:21.4...</td>\n      <td>a saucelessampcomma double cheese pizza with a...</td>\n      <td>Pizza Blanca</td>\n      <td>Mios Pizzeria</td>\n      <td>45209</td>\n      <td>USD</td>\n      <td>0</td>\n      <td>25</td>\n      <td>OH</td>\n      <td>13</td>\n    </tr>\n    <tr>\n      <th>3</th>\n      <td>AVwdX4psIN2L1WUfvJB1</td>\n      <td>2016-03-29T05:08:59Z</td>\n      <td>Pizza,Carry-out food,Pizza Place,Restaurants</td>\n      <td>Accommodation &amp; Food Services</td>\n      <td>Madison Heights</td>\n      <td>US</td>\n      <td>us/mi/madisonheights/30495johnrrd/-874863116</td>\n      <td>42.516669</td>\n      <td>-83.106630</td>\n      <td>NaN</td>\n      <td>...</td>\n      <td>2016-10-20T21:50:02Z,2016-03-29T05:08:59Z</td>\n      <td>NaN</td>\n      <td>Small Pizza</td>\n      <td>Hungry Howies Pizza</td>\n      <td>48071</td>\n      <td>USD</td>\n      <td>25</td>\n      <td>40</td>\n      <td>MI</td>\n      <td>19</td>\n    </tr>\n    <tr>\n      <th>4</th>\n      <td>AVwdaeTtkufWRAb55pSH</td>\n      <td>2016-03-31T02:34:04Z</td>\n      <td>Pizza,American restaurants,Pizza Place,Pizza e...</td>\n      <td>Accommodation &amp; Food Services</td>\n      <td>Baltimore</td>\n      <td>US</td>\n      <td>us/md/baltimore/3600easternave/-1270965359</td>\n      <td>39.286630</td>\n      <td>-76.566984</td>\n      <td>NaN</td>\n      <td>...</td>\n      <td>2016-03-31T02:34:04Z</td>\n      <td>NaN</td>\n      <td>Pizza Sub</td>\n      <td>Spartan Pizzeria</td>\n      <td>21224</td>\n      <td>USD</td>\n      <td>0</td>\n      <td>25</td>\n      <td>MD</td>\n      <td>16</td>\n    </tr>\n  </tbody>\n</table>\n<p>5 rows × 23 columns</p>\n</div>"
     },
     "execution_count": 42,
     "metadata": {},
     "output_type": "execute_result"
    }
   ],
   "source": [
    "pizza.head()"
   ],
   "metadata": {
    "collapsed": false,
    "pycharm": {
     "name": "#%%\n"
    }
   }
  },
  {
   "cell_type": "code",
   "execution_count": 2,
   "metadata": {
    "pycharm": {
     "name": "#%%\n"
    }
   },
   "outputs": [],
   "source": [
    "#1. Взять датасет c пицериями и убрать лишние колонки :\n",
    "# 2. Заменить значения в колонке country c US на RU\n",
    "# 3. Добавить значения в колонке menus.currency RUB, а в тех регионах, где пицерий меньше 10 добавить BTC\n",
    "# 4. Рассчитайте количество пицерий в городе 'Santa Barbara' в переменную sb_pizza_num\n",
    "# 5. Рассчитайте количество пицерий в Калифорнии (province == CA) в ca_pizza_num\n",
    "# 6. Рассчитайте и выведите долю 'Santa Barbara' в пицериях Калифорнии\n",
    "# 7. Рассчитайте средние значения priceRangeMin и priceRangeMax по primaryCategories\n",
    "# 8. Выведите топ-5 самых популярных названий пицц по menus.name\n",
    "# 9. Выведите самый редкий ингридиент из описания menus.description (опционально)\n",
    "# 10. Создайте директорию pizza_provinces\n",
    "# 11. Сохраните в эту директорию файлы с пицериями по регионам provinces\n",
    "# В задании важно учесть условие:\n",
    "#  Если регион начинается \"A\" то файл .xlsx, если 'N' то .csv, в остальных случаях .txt\n",
    "#  Пример: 'AR.xlsx' содержит в себе все пицерии из региона 'AR'\n",
    "# 12. Напишите функцию, которая на вход будет принимать регион, а на выходе выдавать город, где больше всего пцццерий\n",
    "# 13. Рассчитайте и запишите в колонку city_len количество символов в названии города 2мя способами\n"
   ]
  },
  {
   "cell_type": "code",
   "execution_count": 7,
   "outputs": [],
   "source": [],
   "metadata": {
    "collapsed": false,
    "pycharm": {
     "name": "#%%\n"
    }
   }
  },
  {
   "cell_type": "code",
   "execution_count": null,
   "outputs": [],
   "source": [],
   "metadata": {
    "collapsed": false,
    "pycharm": {
     "name": "#%%\n"
    }
   }
  }
 ],
 "metadata": {
  "kernelspec": {
   "display_name": "Python 3",
   "language": "python",
   "name": "python3"
  },
  "language_info": {
   "codemirror_mode": {
    "name": "ipython",
    "version": 3
   },
   "file_extension": ".py",
   "mimetype": "text/x-python",
   "name": "python",
   "nbconvert_exporter": "python",
   "pygments_lexer": "ipython3",
   "version": "3.8.5"
  }
 },
 "nbformat": 4,
 "nbformat_minor": 2
}